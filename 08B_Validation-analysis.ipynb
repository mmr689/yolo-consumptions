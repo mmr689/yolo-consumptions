{
 "cells": [
  {
   "cell_type": "code",
   "execution_count": 1,
   "metadata": {},
   "outputs": [],
   "source": [
    "import pandas as pd"
   ]
  },
  {
   "cell_type": "code",
   "execution_count": 2,
   "metadata": {},
   "outputs": [
    {
     "data": {
      "text/html": [
       "<div>\n",
       "<style scoped>\n",
       "    .dataframe tbody tr th:only-of-type {\n",
       "        vertical-align: middle;\n",
       "    }\n",
       "\n",
       "    .dataframe tbody tr th {\n",
       "        vertical-align: top;\n",
       "    }\n",
       "\n",
       "    .dataframe thead th {\n",
       "        text-align: right;\n",
       "    }\n",
       "</style>\n",
       "<table border=\"1\" class=\"dataframe\">\n",
       "  <thead>\n",
       "    <tr style=\"text-align: right;\">\n",
       "      <th></th>\n",
       "      <th>image</th>\n",
       "      <th>gt_x1</th>\n",
       "      <th>gt_y1</th>\n",
       "      <th>gt_x2</th>\n",
       "      <th>gt_y2</th>\n",
       "      <th>pr_x1</th>\n",
       "      <th>pr_y1</th>\n",
       "      <th>pr_x2</th>\n",
       "      <th>pr_y2</th>\n",
       "      <th>pr_score</th>\n",
       "      <th>IoU</th>\n",
       "    </tr>\n",
       "  </thead>\n",
       "  <tbody>\n",
       "    <tr>\n",
       "      <th>0</th>\n",
       "      <td>img_20230322_224503.jpg</td>\n",
       "      <td>3659</td>\n",
       "      <td>2635</td>\n",
       "      <td>3777</td>\n",
       "      <td>2990</td>\n",
       "      <td>3661.0</td>\n",
       "      <td>2638.0</td>\n",
       "      <td>3809.0</td>\n",
       "      <td>2901.0</td>\n",
       "      <td>0.776861</td>\n",
       "      <td>0.606449</td>\n",
       "    </tr>\n",
       "    <tr>\n",
       "      <th>1</th>\n",
       "      <td>img_20230708_223004.jpg</td>\n",
       "      <td>2751</td>\n",
       "      <td>2609</td>\n",
       "      <td>3111</td>\n",
       "      <td>2808</td>\n",
       "      <td>2746.0</td>\n",
       "      <td>2611.0</td>\n",
       "      <td>3036.0</td>\n",
       "      <td>2806.0</td>\n",
       "      <td>0.876259</td>\n",
       "      <td>0.765338</td>\n",
       "    </tr>\n",
       "    <tr>\n",
       "      <th>2</th>\n",
       "      <td>img_20230624_014503.jpg</td>\n",
       "      <td>3121</td>\n",
       "      <td>731</td>\n",
       "      <td>3299</td>\n",
       "      <td>1048</td>\n",
       "      <td>3113.0</td>\n",
       "      <td>730.0</td>\n",
       "      <td>3307.0</td>\n",
       "      <td>1059.0</td>\n",
       "      <td>0.902837</td>\n",
       "      <td>0.884060</td>\n",
       "    </tr>\n",
       "    <tr>\n",
       "      <th>3</th>\n",
       "      <td>img_20230718_001503.jpg</td>\n",
       "      <td>3366</td>\n",
       "      <td>2088</td>\n",
       "      <td>3643</td>\n",
       "      <td>2354</td>\n",
       "      <td>3370.0</td>\n",
       "      <td>2097.0</td>\n",
       "      <td>3622.0</td>\n",
       "      <td>2356.0</td>\n",
       "      <td>0.862179</td>\n",
       "      <td>0.872995</td>\n",
       "    </tr>\n",
       "    <tr>\n",
       "      <th>4</th>\n",
       "      <td>img_20230616_224503.jpg</td>\n",
       "      <td>1288</td>\n",
       "      <td>2412</td>\n",
       "      <td>1539</td>\n",
       "      <td>2606</td>\n",
       "      <td>1287.0</td>\n",
       "      <td>2418.0</td>\n",
       "      <td>1540.0</td>\n",
       "      <td>2613.0</td>\n",
       "      <td>0.893374</td>\n",
       "      <td>0.928149</td>\n",
       "    </tr>\n",
       "  </tbody>\n",
       "</table>\n",
       "</div>"
      ],
      "text/plain": [
       "                     image  gt_x1  gt_y1  gt_x2  gt_y2   pr_x1   pr_y1  \\\n",
       "0  img_20230322_224503.jpg   3659   2635   3777   2990  3661.0  2638.0   \n",
       "1  img_20230708_223004.jpg   2751   2609   3111   2808  2746.0  2611.0   \n",
       "2  img_20230624_014503.jpg   3121    731   3299   1048  3113.0   730.0   \n",
       "3  img_20230718_001503.jpg   3366   2088   3643   2354  3370.0  2097.0   \n",
       "4  img_20230616_224503.jpg   1288   2412   1539   2606  1287.0  2418.0   \n",
       "\n",
       "    pr_x2   pr_y2  pr_score       IoU  \n",
       "0  3809.0  2901.0  0.776861  0.606449  \n",
       "1  3036.0  2806.0  0.876259  0.765338  \n",
       "2  3307.0  1059.0  0.902837  0.884060  \n",
       "3  3622.0  2356.0  0.862179  0.872995  \n",
       "4  1540.0  2613.0  0.893374  0.928149  "
      ]
     },
     "execution_count": 2,
     "metadata": {},
     "output_type": "execute_result"
    }
   ],
   "source": [
    "file_path = \"results/model-validation/FP32.csv\"\n",
    "df32 = pd.read_csv(file_path)\n",
    "df32.head()"
   ]
  },
  {
   "cell_type": "code",
   "execution_count": 3,
   "metadata": {},
   "outputs": [
    {
     "name": "stdout",
     "output_type": "stream",
     "text": [
      "Número de filas con al menos un valor NaN: 2 de 147\n",
      "Porcentaje de filas con al menos un valor NaN: 1.36%\n"
     ]
    }
   ],
   "source": [
    "# Contar las filas que contienen al menos un NaN\n",
    "num_rows_with_nan = df32.isna().any(axis=1).sum()\n",
    "print(f\"Número de filas con al menos un valor NaN: {num_rows_with_nan} de {df32.shape[0]}\")\n",
    "# Calcular el porcentaje de filas donde hay NaN\n",
    "percentage = (num_rows_with_nan / df32.shape[0]) * 100\n",
    "print(f\"Porcentaje de filas con al menos un valor NaN: {percentage:.2f}%\")"
   ]
  },
  {
   "cell_type": "code",
   "execution_count": 4,
   "metadata": {},
   "outputs": [
    {
     "name": "stdout",
     "output_type": "stream",
     "text": [
      "Número de filas donde 'IoU' es mayor o igual a 0.5: 141 de 147\n",
      "Porcentaje de filas donde 'IoU' es mayor o igual a 0.5: 95.92%\n"
     ]
    }
   ],
   "source": [
    "# Contar las filas donde la columna 'IoU' es mayor o igual a 0.5\n",
    "num_rows_iou_ge_0_5 = (df32['IoU'] >= 0.5).sum()\n",
    "print(f\"Número de filas donde 'IoU' es mayor o igual a 0.5: {num_rows_iou_ge_0_5} de {df32.shape[0]}\")\n",
    "\n",
    "\n",
    "# Calcular el porcentaje de filas donde 'IoU' es mayor o igual a 0.5\n",
    "percentage = (num_rows_iou_ge_0_5 / df32.shape[0]) * 100\n",
    "print(f\"Porcentaje de filas donde 'IoU' es mayor o igual a 0.5: {percentage:.2f}%\")"
   ]
  },
  {
   "cell_type": "markdown",
   "metadata": {},
   "source": [
    "## FP16"
   ]
  },
  {
   "cell_type": "code",
   "execution_count": 5,
   "metadata": {},
   "outputs": [
    {
     "data": {
      "text/html": [
       "<div>\n",
       "<style scoped>\n",
       "    .dataframe tbody tr th:only-of-type {\n",
       "        vertical-align: middle;\n",
       "    }\n",
       "\n",
       "    .dataframe tbody tr th {\n",
       "        vertical-align: top;\n",
       "    }\n",
       "\n",
       "    .dataframe thead th {\n",
       "        text-align: right;\n",
       "    }\n",
       "</style>\n",
       "<table border=\"1\" class=\"dataframe\">\n",
       "  <thead>\n",
       "    <tr style=\"text-align: right;\">\n",
       "      <th></th>\n",
       "      <th>image</th>\n",
       "      <th>gt_x1</th>\n",
       "      <th>gt_y1</th>\n",
       "      <th>gt_x2</th>\n",
       "      <th>gt_y2</th>\n",
       "      <th>pr_x1</th>\n",
       "      <th>pr_y1</th>\n",
       "      <th>pr_x2</th>\n",
       "      <th>pr_y2</th>\n",
       "      <th>pr_score</th>\n",
       "      <th>IoU</th>\n",
       "    </tr>\n",
       "  </thead>\n",
       "  <tbody>\n",
       "    <tr>\n",
       "      <th>0</th>\n",
       "      <td>img_20230322_224503.jpg</td>\n",
       "      <td>3659</td>\n",
       "      <td>2635</td>\n",
       "      <td>3777</td>\n",
       "      <td>2990</td>\n",
       "      <td>3662.0</td>\n",
       "      <td>2639.0</td>\n",
       "      <td>3810.0</td>\n",
       "      <td>2902.0</td>\n",
       "      <td>0.776977</td>\n",
       "      <td>0.598094</td>\n",
       "    </tr>\n",
       "    <tr>\n",
       "      <th>1</th>\n",
       "      <td>img_20230708_223004.jpg</td>\n",
       "      <td>2751</td>\n",
       "      <td>2609</td>\n",
       "      <td>3111</td>\n",
       "      <td>2808</td>\n",
       "      <td>2747.0</td>\n",
       "      <td>2612.0</td>\n",
       "      <td>3037.0</td>\n",
       "      <td>2807.0</td>\n",
       "      <td>0.876298</td>\n",
       "      <td>0.770091</td>\n",
       "    </tr>\n",
       "    <tr>\n",
       "      <th>2</th>\n",
       "      <td>img_20230624_014503.jpg</td>\n",
       "      <td>3121</td>\n",
       "      <td>731</td>\n",
       "      <td>3299</td>\n",
       "      <td>1048</td>\n",
       "      <td>3114.0</td>\n",
       "      <td>731.0</td>\n",
       "      <td>3308.0</td>\n",
       "      <td>1060.0</td>\n",
       "      <td>0.902805</td>\n",
       "      <td>0.884060</td>\n",
       "    </tr>\n",
       "    <tr>\n",
       "      <th>3</th>\n",
       "      <td>img_20230718_001503.jpg</td>\n",
       "      <td>3366</td>\n",
       "      <td>2088</td>\n",
       "      <td>3643</td>\n",
       "      <td>2354</td>\n",
       "      <td>3371.0</td>\n",
       "      <td>2097.0</td>\n",
       "      <td>3623.0</td>\n",
       "      <td>2356.0</td>\n",
       "      <td>0.862200</td>\n",
       "      <td>0.872995</td>\n",
       "    </tr>\n",
       "    <tr>\n",
       "      <th>4</th>\n",
       "      <td>img_20230616_224503.jpg</td>\n",
       "      <td>1288</td>\n",
       "      <td>2412</td>\n",
       "      <td>1539</td>\n",
       "      <td>2606</td>\n",
       "      <td>1287.0</td>\n",
       "      <td>2418.0</td>\n",
       "      <td>1539.0</td>\n",
       "      <td>2613.0</td>\n",
       "      <td>0.893417</td>\n",
       "      <td>0.931722</td>\n",
       "    </tr>\n",
       "  </tbody>\n",
       "</table>\n",
       "</div>"
      ],
      "text/plain": [
       "                     image  gt_x1  gt_y1  gt_x2  gt_y2   pr_x1   pr_y1  \\\n",
       "0  img_20230322_224503.jpg   3659   2635   3777   2990  3662.0  2639.0   \n",
       "1  img_20230708_223004.jpg   2751   2609   3111   2808  2747.0  2612.0   \n",
       "2  img_20230624_014503.jpg   3121    731   3299   1048  3114.0   731.0   \n",
       "3  img_20230718_001503.jpg   3366   2088   3643   2354  3371.0  2097.0   \n",
       "4  img_20230616_224503.jpg   1288   2412   1539   2606  1287.0  2418.0   \n",
       "\n",
       "    pr_x2   pr_y2  pr_score       IoU  \n",
       "0  3810.0  2902.0  0.776977  0.598094  \n",
       "1  3037.0  2807.0  0.876298  0.770091  \n",
       "2  3308.0  1060.0  0.902805  0.884060  \n",
       "3  3623.0  2356.0  0.862200  0.872995  \n",
       "4  1539.0  2613.0  0.893417  0.931722  "
      ]
     },
     "execution_count": 5,
     "metadata": {},
     "output_type": "execute_result"
    }
   ],
   "source": [
    "file_path = \"results/model-validation/FP16.csv\"\n",
    "df16 = pd.read_csv(file_path)\n",
    "df16.head()"
   ]
  },
  {
   "cell_type": "code",
   "execution_count": 6,
   "metadata": {},
   "outputs": [
    {
     "name": "stdout",
     "output_type": "stream",
     "text": [
      "Número de filas con al menos un valor NaN: 2 de 147\n",
      "Porcentaje de filas con al menos un valor NaN: 1.36%\n"
     ]
    }
   ],
   "source": [
    "# Contar las filas que contienen al menos un NaN\n",
    "num_rows_with_nan = df16.isna().any(axis=1).sum()\n",
    "print(f\"Número de filas con al menos un valor NaN: {num_rows_with_nan} de {df16.shape[0]}\")\n",
    "# Calcular el porcentaje de filas donde hay NaN\n",
    "percentage = (num_rows_with_nan / df16.shape[0]) * 100\n",
    "print(f\"Porcentaje de filas con al menos un valor NaN: {percentage:.2f}%\")"
   ]
  },
  {
   "cell_type": "code",
   "execution_count": 7,
   "metadata": {},
   "outputs": [
    {
     "name": "stdout",
     "output_type": "stream",
     "text": [
      "Número de filas donde 'IoU' es mayor o igual a 0.5: 141 de 147\n",
      "Porcentaje de filas donde 'IoU' es mayor o igual a 0.5: 95.92%\n"
     ]
    }
   ],
   "source": [
    "# Contar las filas donde la columna 'IoU' es mayor o igual a 0.5\n",
    "num_rows_iou_ge_0_5 = (df16['IoU'] >= 0.5).sum()\n",
    "print(f\"Número de filas donde 'IoU' es mayor o igual a 0.5: {num_rows_iou_ge_0_5} de {df16.shape[0]}\")\n",
    "\n",
    "\n",
    "# Calcular el porcentaje de filas donde 'IoU' es mayor o igual a 0.5\n",
    "percentage = (num_rows_iou_ge_0_5 / df16.shape[0]) * 100\n",
    "print(f\"Porcentaje de filas donde 'IoU' es mayor o igual a 0.5: {percentage:.2f}%\")"
   ]
  }
 ],
 "metadata": {
  "kernelspec": {
   "display_name": ".venv",
   "language": "python",
   "name": "python3"
  },
  "language_info": {
   "codemirror_mode": {
    "name": "ipython",
    "version": 3
   },
   "file_extension": ".py",
   "mimetype": "text/x-python",
   "name": "python",
   "nbconvert_exporter": "python",
   "pygments_lexer": "ipython3",
   "version": "3.8.10"
  }
 },
 "nbformat": 4,
 "nbformat_minor": 2
}
