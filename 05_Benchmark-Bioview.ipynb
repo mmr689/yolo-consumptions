{
 "cells": [
  {
   "cell_type": "code",
   "execution_count": 7,
   "metadata": {},
   "outputs": [],
   "source": [
    "from ultralytics.utils.benchmarks import benchmark\n",
    "import torch"
   ]
  },
  {
   "cell_type": "code",
   "execution_count": 8,
   "metadata": {},
   "outputs": [
    {
     "name": "stdout",
     "output_type": "stream",
     "text": [
      "CUDA está disponible. Usando CUDA.\n"
     ]
    }
   ],
   "source": [
    "device = 'cuda' if torch.cuda.is_available() else 'cpu'\n",
    "print(f\"{'CUDA está disponible. Usando CUDA.' if torch.cuda.is_available() else 'CUDA no está disponible. Usando CPU.'}\")"
   ]
  },
  {
   "cell_type": "code",
   "execution_count": 9,
   "metadata": {},
   "outputs": [
    {
     "name": "stdout",
     "output_type": "stream",
     "text": [
      "Setup complete ✅ (48 CPUs, 251.4 GB RAM, 1601.6/1758.3 GB disk)\n",
      "\n",
      "Benchmarks complete for best.pt on datasets/bioview-lizards_TRAIN/config.yaml at imgsz=160 (313.54s)\n",
      "                   Format Status❔  Size (MB)  metrics/mAP50-95(B)  Inference time (ms/im)\n",
      "0                 PyTorch       ✅        6.1               0.0364                    7.28\n",
      "1             TorchScript       ✅       11.8               0.0379                    4.12\n",
      "2                    ONNX       ✅       11.5               0.0379                    7.04\n",
      "3                OpenVINO       ❌        0.0                  NaN                     NaN\n",
      "4                TensorRT       ❎       12.9                  NaN                     NaN\n",
      "5                  CoreML       ❌        0.0                  NaN                     NaN\n",
      "6   TensorFlow SavedModel       ✅       29.0               0.0379                   29.38\n",
      "7     TensorFlow GraphDef       ✅       11.6               0.0379                   27.93\n",
      "8         TensorFlow Lite       ❌        0.0                  NaN                     NaN\n",
      "9     TensorFlow Edge TPU       ❌        0.0                  NaN                     NaN\n",
      "10          TensorFlow.js       ❌        0.0                  NaN                     NaN\n",
      "11           PaddlePaddle       ✅       23.2               0.0379                   23.49\n",
      "12                   NCNN       ✅       11.5               0.0379                    8.87\n",
      "\n"
     ]
    },
    {
     "data": {
      "text/html": [
       "<div>\n",
       "<style scoped>\n",
       "    .dataframe tbody tr th:only-of-type {\n",
       "        vertical-align: middle;\n",
       "    }\n",
       "\n",
       "    .dataframe tbody tr th {\n",
       "        vertical-align: top;\n",
       "    }\n",
       "\n",
       "    .dataframe thead th {\n",
       "        text-align: right;\n",
       "    }\n",
       "</style>\n",
       "<table border=\"1\" class=\"dataframe\">\n",
       "  <thead>\n",
       "    <tr style=\"text-align: right;\">\n",
       "      <th></th>\n",
       "      <th>Format</th>\n",
       "      <th>Status❔</th>\n",
       "      <th>Size (MB)</th>\n",
       "      <th>metrics/mAP50-95(B)</th>\n",
       "      <th>Inference time (ms/im)</th>\n",
       "    </tr>\n",
       "  </thead>\n",
       "  <tbody>\n",
       "    <tr>\n",
       "      <th>0</th>\n",
       "      <td>PyTorch</td>\n",
       "      <td>✅</td>\n",
       "      <td>6.1</td>\n",
       "      <td>0.0364</td>\n",
       "      <td>7.28</td>\n",
       "    </tr>\n",
       "    <tr>\n",
       "      <th>1</th>\n",
       "      <td>TorchScript</td>\n",
       "      <td>✅</td>\n",
       "      <td>11.8</td>\n",
       "      <td>0.0379</td>\n",
       "      <td>4.12</td>\n",
       "    </tr>\n",
       "    <tr>\n",
       "      <th>2</th>\n",
       "      <td>ONNX</td>\n",
       "      <td>✅</td>\n",
       "      <td>11.5</td>\n",
       "      <td>0.0379</td>\n",
       "      <td>7.04</td>\n",
       "    </tr>\n",
       "    <tr>\n",
       "      <th>3</th>\n",
       "      <td>OpenVINO</td>\n",
       "      <td>❌</td>\n",
       "      <td>0.0</td>\n",
       "      <td>NaN</td>\n",
       "      <td>NaN</td>\n",
       "    </tr>\n",
       "    <tr>\n",
       "      <th>4</th>\n",
       "      <td>TensorRT</td>\n",
       "      <td>❎</td>\n",
       "      <td>12.9</td>\n",
       "      <td>NaN</td>\n",
       "      <td>NaN</td>\n",
       "    </tr>\n",
       "  </tbody>\n",
       "</table>\n",
       "</div>"
      ],
      "text/plain": [
       "        Format Status❔  Size (MB)  metrics/mAP50-95(B)  Inference time (ms/im)\n",
       "0      PyTorch       ✅        6.1               0.0364                    7.28\n",
       "1  TorchScript       ✅       11.8               0.0379                    4.12\n",
       "2         ONNX       ✅       11.5               0.0379                    7.04\n",
       "3     OpenVINO       ❌        0.0                  NaN                     NaN\n",
       "4     TensorRT       ❎       12.9                  NaN                     NaN"
      ]
     },
     "execution_count": 9,
     "metadata": {},
     "output_type": "execute_result"
    }
   ],
   "source": [
    "# Benchmark on GPU\n",
    "benchmark_df = benchmark(model=\"datasets/bioview-lizards_TRAIN/run/train/weights/best.pt\",\n",
    "          data=\"datasets/bioview-lizards_TRAIN/config.yaml\",\n",
    "          half=False,\n",
    "          int8=False,\n",
    "          device=device)\n",
    "\n",
    "benchmark_df.head()"
   ]
  },
  {
   "cell_type": "code",
   "execution_count": 10,
   "metadata": {},
   "outputs": [
    {
     "name": "stdout",
     "output_type": "stream",
     "text": [
      "Setup complete ✅ (48 CPUs, 251.4 GB RAM, 1601.6/1758.3 GB disk)\n",
      "\n",
      "Benchmarks complete for best.pt on datasets/bioview-lizards_TRAIN/config.yaml at imgsz=160 (351.75s)\n",
      "                   Format Status❔  Size (MB)  metrics/mAP50-95(B)  Inference time (ms/im)\n",
      "0                 PyTorch       ✅        6.1               0.0364                    6.10\n",
      "1             TorchScript       ✅       11.8               0.0379                    3.59\n",
      "2                    ONNX       ✅       11.5               0.0379                    6.70\n",
      "3                OpenVINO       ❌        0.0                  NaN                     NaN\n",
      "4                TensorRT       ❎       12.9                  NaN                     NaN\n",
      "5                  CoreML       ❌        0.0                  NaN                     NaN\n",
      "6   TensorFlow SavedModel       ✅       38.2               0.0379                   44.41\n",
      "7     TensorFlow GraphDef       ❌        0.0                  NaN                     NaN\n",
      "8         TensorFlow Lite       ❌        0.0                  NaN                     NaN\n",
      "9     TensorFlow Edge TPU       ❌        0.0                  NaN                     NaN\n",
      "10          TensorFlow.js       ❌        0.0                  NaN                     NaN\n",
      "11           PaddlePaddle       ✅       23.2               0.0379                   24.31\n",
      "12                   NCNN       ✅       11.5               0.0379                    7.16\n",
      "\n"
     ]
    },
    {
     "data": {
      "text/html": [
       "<div>\n",
       "<style scoped>\n",
       "    .dataframe tbody tr th:only-of-type {\n",
       "        vertical-align: middle;\n",
       "    }\n",
       "\n",
       "    .dataframe tbody tr th {\n",
       "        vertical-align: top;\n",
       "    }\n",
       "\n",
       "    .dataframe thead th {\n",
       "        text-align: right;\n",
       "    }\n",
       "</style>\n",
       "<table border=\"1\" class=\"dataframe\">\n",
       "  <thead>\n",
       "    <tr style=\"text-align: right;\">\n",
       "      <th></th>\n",
       "      <th>Format</th>\n",
       "      <th>Status❔</th>\n",
       "      <th>Size (MB)</th>\n",
       "      <th>metrics/mAP50-95(B)</th>\n",
       "      <th>Inference time (ms/im)</th>\n",
       "    </tr>\n",
       "  </thead>\n",
       "  <tbody>\n",
       "    <tr>\n",
       "      <th>0</th>\n",
       "      <td>PyTorch</td>\n",
       "      <td>✅</td>\n",
       "      <td>6.1</td>\n",
       "      <td>0.0364</td>\n",
       "      <td>6.10</td>\n",
       "    </tr>\n",
       "    <tr>\n",
       "      <th>1</th>\n",
       "      <td>TorchScript</td>\n",
       "      <td>✅</td>\n",
       "      <td>11.8</td>\n",
       "      <td>0.0379</td>\n",
       "      <td>3.59</td>\n",
       "    </tr>\n",
       "    <tr>\n",
       "      <th>2</th>\n",
       "      <td>ONNX</td>\n",
       "      <td>✅</td>\n",
       "      <td>11.5</td>\n",
       "      <td>0.0379</td>\n",
       "      <td>6.70</td>\n",
       "    </tr>\n",
       "    <tr>\n",
       "      <th>3</th>\n",
       "      <td>OpenVINO</td>\n",
       "      <td>❌</td>\n",
       "      <td>0.0</td>\n",
       "      <td>NaN</td>\n",
       "      <td>NaN</td>\n",
       "    </tr>\n",
       "    <tr>\n",
       "      <th>4</th>\n",
       "      <td>TensorRT</td>\n",
       "      <td>❎</td>\n",
       "      <td>12.9</td>\n",
       "      <td>NaN</td>\n",
       "      <td>NaN</td>\n",
       "    </tr>\n",
       "  </tbody>\n",
       "</table>\n",
       "</div>"
      ],
      "text/plain": [
       "        Format Status❔  Size (MB)  metrics/mAP50-95(B)  Inference time (ms/im)\n",
       "0      PyTorch       ✅        6.1               0.0364                    6.10\n",
       "1  TorchScript       ✅       11.8               0.0379                    3.59\n",
       "2         ONNX       ✅       11.5               0.0379                    6.70\n",
       "3     OpenVINO       ❌        0.0                  NaN                     NaN\n",
       "4     TensorRT       ❎       12.9                  NaN                     NaN"
      ]
     },
     "execution_count": 10,
     "metadata": {},
     "output_type": "execute_result"
    }
   ],
   "source": [
    "# Benchmark on GPU\n",
    "benchmark_df = benchmark(model=\"datasets/bioview-lizards_TRAIN/run/train/weights/best.pt\",\n",
    "          data=\"datasets/bioview-lizards_TRAIN/config.yaml\",\n",
    "          half=False,\n",
    "          int8=True,\n",
    "          device=device)\n",
    "\n",
    "benchmark_df.head()"
   ]
  }
 ],
 "metadata": {
  "kernelspec": {
   "display_name": ".venv",
   "language": "python",
   "name": "python3"
  },
  "language_info": {
   "codemirror_mode": {
    "name": "ipython",
    "version": 3
   },
   "file_extension": ".py",
   "mimetype": "text/x-python",
   "name": "python",
   "nbconvert_exporter": "python",
   "pygments_lexer": "ipython3",
   "version": "3.8.10"
  }
 },
 "nbformat": 4,
 "nbformat_minor": 2
}
