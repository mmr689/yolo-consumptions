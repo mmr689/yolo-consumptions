{
 "cells": [
  {
   "cell_type": "code",
   "execution_count": 1,
   "metadata": {},
   "outputs": [],
   "source": [
    "import os\n",
    "from PIL import Image\n",
    "import shutil\n",
    "import random\n",
    "import yaml\n",
    "import torch\n",
    "from ultralytics import YOLO"
   ]
  },
  {
   "cell_type": "code",
   "execution_count": 2,
   "metadata": {},
   "outputs": [
    {
     "name": "stdout",
     "output_type": "stream",
     "text": [
      "CUDA está disponible. Usando CUDA.\n"
     ]
    }
   ],
   "source": [
    "# Configura el dispositivo y notifica sobre la disponibilidad de CUDA\n",
    "device = 'cuda' if torch.cuda.is_available() else 'cpu'\n",
    "print(f\"{'CUDA está disponible. Usando CUDA.' if torch.cuda.is_available() else 'CUDA no está disponible. Usando CPU.'}\")"
   ]
  },
  {
   "cell_type": "code",
   "execution_count": 3,
   "metadata": {},
   "outputs": [],
   "source": [
    "class DatasetValidator:\n",
    "    def __init__(self, main_path):\n",
    "        \"\"\"\n",
    "        Initializes the DatasetValidator with the paths to the images and labels directories.\n",
    "\n",
    "        Parameters:\n",
    "        main_path (str): The path to the folder containing all files.\n",
    "        \"\"\"\n",
    "        self.main_path = main_path\n",
    "        self.images_path = os.path.join(main_path, 'images')\n",
    "        self.labels_path = os.path.join(main_path, 'labels')\n",
    "\n",
    "    def check_matching_files(self):\n",
    "        \"\"\"\n",
    "        Checks if each label file (.txt) in the 'labels' folder has a corresponding\n",
    "        image file in the 'images' folder. If there are any mismatches, it will print\n",
    "        which images or labels are missing.\n",
    "\n",
    "        Returns:\n",
    "        None\n",
    "        \"\"\"\n",
    "        # Get filenames from the directories\n",
    "        image_files = set(os.listdir(self.images_path))\n",
    "        label_files = set(os.listdir(self.labels_path))\n",
    "        \n",
    "        # Filter only the filenames without extensions\n",
    "        image_names = set(os.path.splitext(image)[0] for image in image_files)\n",
    "        label_names = set(os.path.splitext(label)[0] for label in label_files)\n",
    "        \n",
    "        # Compare the filenames\n",
    "        missing_images = label_names - image_names\n",
    "        missing_labels = image_names - label_names\n",
    "        \n",
    "        if missing_images:\n",
    "            print(f\"Missing images for the following labels: {', '.join(missing_images)}\")\n",
    "        else:\n",
    "            print(\"All labels have corresponding images.\")\n",
    "        \n",
    "        if missing_labels:\n",
    "            print(f\"Missing labels for the following images: {', '.join(missing_labels)}\")\n",
    "        else:\n",
    "            print(\"All images have corresponding labels.\")\n",
    "\n",
    "    def validate_images(self):\n",
    "        \"\"\"\n",
    "        Checks if the image files in the 'images' folder can be opened without errors.\n",
    "        If there are any corrupt files, it will print which images are corrupt.\n",
    "\n",
    "        Returns:\n",
    "        None\n",
    "        \"\"\"\n",
    "        # Validate image files\n",
    "        corrupt_images = []\n",
    "        image_files = os.listdir(self.images_path)\n",
    "        for image_file in image_files:\n",
    "            image_path = os.path.join(self.images_path, image_file)\n",
    "            try:\n",
    "                with Image.open(image_path) as img:\n",
    "                    img.verify()  # Verify that it is, in fact, an image\n",
    "            except (IOError, SyntaxError) as e:\n",
    "                corrupt_images.append(image_file)\n",
    "        \n",
    "        if corrupt_images:\n",
    "            print(f\"Corrupt images detected: {', '.join(corrupt_images)}\")\n",
    "        else:\n",
    "            print(\"No corrupt images found.\")\n",
    "\n",
    "    def validate_labels(self):\n",
    "        \"\"\"\n",
    "        Checks if the label files in the 'labels' folder can be read without errors.\n",
    "        If there are any corrupt files, it will print which labels are corrupt.\n",
    "\n",
    "        Returns:\n",
    "        None\n",
    "        \"\"\"\n",
    "        # Validate label files\n",
    "        corrupt_labels = []\n",
    "        label_files = os.listdir(self.labels_path)\n",
    "        for label_file in label_files:\n",
    "            label_path = os.path.join(self.labels_path, label_file)\n",
    "            try:\n",
    "                with open(label_path, 'r') as file:\n",
    "                    file.read()  # Attempt to read the file\n",
    "            except (IOError, UnicodeDecodeError) as e:\n",
    "                corrupt_labels.append(label_file)\n",
    "        \n",
    "        if corrupt_labels:\n",
    "            print(f\"Corrupt labels detected: {', '.join(corrupt_labels)}\")\n",
    "        else:\n",
    "            print(\"No corrupt labels found.\")\n",
    "\n",
    "    def filter_label_lines(self, ids_to_keep):\n",
    "        \"\"\"\n",
    "        Filters the lines of each label file (.txt) in the 'labels' folder to keep only\n",
    "        those lines where the first value (id) is in the specified list of ids.\n",
    "\n",
    "        Parameters:\n",
    "        ids_to_keep (list of int): The list of ids to keep.\n",
    "\n",
    "        Returns:\n",
    "        None\n",
    "        \"\"\"\n",
    "        # Create a backup of the original dataset folder\n",
    "        backup_path = self.main_path + '_TMP'\n",
    "        shutil.copytree(self.main_path, backup_path)\n",
    "        \n",
    "        # Read each label file in the backup folder, filter lines and rewrite the file\n",
    "        for label_file in os.listdir(os.path.join(backup_path, 'labels')):\n",
    "            original_label_path = os.path.join(backup_path, 'labels', label_file)\n",
    "            filtered_lines = []\n",
    "            with open(original_label_path, 'r') as file:\n",
    "                lines = file.readlines()\n",
    "                for line in lines:\n",
    "                    parts = line.strip().split()\n",
    "                    if int(parts[0]) in ids_to_keep:\n",
    "                        filtered_lines.append(line)\n",
    "            with open(original_label_path, 'w') as file:\n",
    "                file.writelines(filtered_lines)\n",
    "\n",
    "    def remove_empty_labels_and_corresponding_images(self, main_path):\n",
    "        \"\"\"\n",
    "        Removes empty label files (.txt) from the 'labels' folder and their corresponding\n",
    "        images from the 'images' folder in the specified main path.\n",
    "\n",
    "        Parameters:\n",
    "        main_path (str): The path to the base folder containing 'images' and 'labels' subfolders.\n",
    "\n",
    "        Returns:\n",
    "        None\n",
    "        \"\"\"\n",
    "        images_path = os.path.join(main_path, 'images')\n",
    "        labels_path = os.path.join(main_path, 'labels')\n",
    "\n",
    "\n",
    "        empty_label_files = []\n",
    "        label_files = os.listdir(labels_path)\n",
    "        for label_file in label_files:\n",
    "            label_path = os.path.join(labels_path, label_file)\n",
    "            try:\n",
    "                with open(label_path, 'r') as file:\n",
    "                    content = file.read()\n",
    "                    if not content.strip():\n",
    "                        empty_label_files.append(label_file)\n",
    "            except (IOError, UnicodeDecodeError) as e:\n",
    "                pass\n",
    "        \n",
    "        if empty_label_files:\n",
    "            print(f\"Empty label files detected: {', '.join(empty_label_files)}\")\n",
    "            for empty_label in empty_label_files:\n",
    "                image_file = empty_label.split('.')[0] + '.jpg'\n",
    "                image_path = os.path.join(images_path, image_file)\n",
    "                if os.path.exists(image_path):\n",
    "                    os.remove(image_path)\n",
    "                    print(f\"Corresponding image {image_file} deleted. {image_path}\")\n",
    "                else:\n",
    "                    print(f\"Corresponding image {image_file} not found.\")\n",
    "            # Remove empty label files\n",
    "            for empty_label in empty_label_files:\n",
    "                label_path = os.path.join(labels_path, empty_label)\n",
    "                os.remove(label_path)\n",
    "                print(f\"Empty label file {empty_label} deleted. {label_path}\")\n",
    "        else:\n",
    "            print(\"No empty label files found.\")\n",
    "\n",
    "    def remove_TMP_folder(self, backup_folder):\n",
    "        \"\"\"\n",
    "        Removes the specified backup folder created during operations.\n",
    "\n",
    "        Parameters:\n",
    "        folder_name (str): The name of the backup folder to be removed.\n",
    "\n",
    "        Returns:\n",
    "        None\n",
    "        \"\"\"\n",
    "        if os.path.exists(backup_folder):\n",
    "            shutil.rmtree(backup_folder)\n",
    "            print(\"_TMP folder deleted.\")\n",
    "        else:\n",
    "            print(\"_TMP folder not found.\", backup_folder)\n",
    "\n",
    "    def split_dataset(self, from_path, to_path, to_folder, train_ratio=0.8):\n",
    "        \"\"\"\n",
    "        Splits the dataset into training and validation sets based on the provided ratio.\n",
    "\n",
    "        Parameters:\n",
    "        from_path (str): The path to the base folder containing 'images' and 'labels' subfolders.\n",
    "        to_path (str): The path to the final folder containing 'images' and 'labels' subfolders.\n",
    "        to_folder (str): Name of the final folder.\n",
    "        train_ratio (float): The ratio of the dataset to be allocated to training (default is 0.8).\n",
    "\n",
    "        Returns:\n",
    "        train_folder (str): Path to the training dataset folder.\n",
    "        validation_folder (str): Path to the validation dataset folder.\n",
    "        \"\"\"\n",
    "        # Create a new folder for the split dataset\n",
    "        to_path = os.path.join(to_path, to_folder)\n",
    "        os.makedirs(to_path, exist_ok=True)\n",
    "        to_path = os.path.join(to_path, 'dataset')\n",
    "        os.makedirs(to_path, exist_ok=True)\n",
    "        # Create folders for training and validation sets\n",
    "        train_folder = os.path.join(to_path, 'train')\n",
    "        validation_folder = os.path.join(to_path, 'validation')\n",
    "        os.makedirs(train_folder, exist_ok=True)\n",
    "        os.makedirs(validation_folder, exist_ok=True)\n",
    "        train_images_folder = os.path.join(to_path, 'train', 'images')\n",
    "        train_labels_folder = os.path.join(to_path, 'train', 'labels')\n",
    "        os.makedirs(train_images_folder, exist_ok=True)\n",
    "        os.makedirs(train_labels_folder, exist_ok=True)\n",
    "        validation_images_folder = os.path.join(to_path, 'validation', 'images')\n",
    "        validation_labels_folder = os.path.join(to_path, 'validation', 'labels')\n",
    "        os.makedirs(validation_images_folder, exist_ok=True)\n",
    "        os.makedirs(validation_labels_folder, exist_ok=True)\n",
    "\n",
    "        # Define images and labels paths\n",
    "        images_path = os.path.join(from_path, 'images')\n",
    "        labels_path = os.path.join(from_path, 'labels')\n",
    "\n",
    "        # Get list of image files\n",
    "        image_files = os.listdir(images_path)\n",
    "        num_images = len(image_files)\n",
    "\n",
    "        # Shuffle the list of image files\n",
    "        random.shuffle(image_files)\n",
    "\n",
    "        # Split the dataset based on the ratio\n",
    "        num_train = int(num_images * train_ratio)\n",
    "        train_images = image_files[:num_train]\n",
    "        validation_images = image_files[num_train:]\n",
    "\n",
    "        # Copy images and labels to train folder\n",
    "        for image_file in train_images:\n",
    "            image_src = os.path.join(images_path, image_file)\n",
    "            label_file = os.path.splitext(image_file)[0] + '.txt'\n",
    "            label_src = os.path.join(labels_path, label_file)\n",
    "            shutil.copy(image_src, train_images_folder)\n",
    "            shutil.copy(label_src, train_labels_folder)\n",
    "\n",
    "        # Copy images and labels to validation folder\n",
    "        for image_file in validation_images:\n",
    "            image_src = os.path.join(images_path, image_file)\n",
    "            label_file = os.path.splitext(image_file)[0] + '.txt'\n",
    "            label_src = os.path.join(labels_path, label_file)\n",
    "            shutil.copy(image_src, validation_images_folder)\n",
    "            shutil.copy(label_src, validation_labels_folder)\n",
    "\n",
    "        return train_folder, validation_folder"
   ]
  },
  {
   "cell_type": "code",
   "execution_count": 4,
   "metadata": {},
   "outputs": [
    {
     "name": "stdout",
     "output_type": "stream",
     "text": [
      "All labels have corresponding images.\n",
      "All images have corresponding labels.\n",
      "No corrupt images found.\n",
      "No corrupt labels found.\n"
     ]
    }
   ],
   "source": [
    "validator = DatasetValidator('datasets/bioview')\n",
    "validator.check_matching_files()\n",
    "validator.validate_images()\n",
    "validator.validate_labels()"
   ]
  },
  {
   "cell_type": "markdown",
   "metadata": {},
   "source": [
    "Podemos filtrar el dataset para solo quedarnos con las etiquetas que queramos trabajar. Lo haremos filtrando su ID. En este caso, solo queremos las lagartijas con ID 0."
   ]
  },
  {
   "cell_type": "code",
   "execution_count": 5,
   "metadata": {},
   "outputs": [],
   "source": [
    "validator.filter_label_lines([0])"
   ]
  },
  {
   "cell_type": "markdown",
   "metadata": {},
   "source": [
    "Además también será conveniente comprobar que no haya etiquetas en blanco que no aportan nada al modelo."
   ]
  },
  {
   "cell_type": "code",
   "execution_count": 6,
   "metadata": {},
   "outputs": [
    {
     "name": "stdout",
     "output_type": "stream",
     "text": [
      "Empty label files detected: img_20230626_010005.txt\n",
      "Corresponding image img_20230626_010005.jpg deleted. datasets/bioview_TMP/images/img_20230626_010005.jpg\n",
      "Empty label file img_20230626_010005.txt deleted. datasets/bioview_TMP/labels/img_20230626_010005.txt\n"
     ]
    }
   ],
   "source": [
    "validator.remove_empty_labels_and_corresponding_images('datasets/bioview_TMP')"
   ]
  },
  {
   "cell_type": "code",
   "execution_count": 7,
   "metadata": {},
   "outputs": [
    {
     "data": {
      "text/plain": [
       "('datasets/bioview-lizards_TRAIN/dataset/train',\n",
       " 'datasets/bioview-lizards_TRAIN/dataset/validation')"
      ]
     },
     "execution_count": 7,
     "metadata": {},
     "output_type": "execute_result"
    }
   ],
   "source": [
    "validator.split_dataset(from_path='datasets/bioview_TMP',\n",
    "                        to_path='datasets', to_folder='bioview-lizards_TRAIN',\n",
    "                        train_ratio=0.8)"
   ]
  },
  {
   "cell_type": "markdown",
   "metadata": {},
   "source": [
    "Eliminamos la carpeta temporal de *backup* que hemos hecho."
   ]
  },
  {
   "cell_type": "code",
   "execution_count": 8,
   "metadata": {},
   "outputs": [
    {
     "name": "stdout",
     "output_type": "stream",
     "text": [
      "_TMP folder deleted.\n"
     ]
    }
   ],
   "source": [
    "validator.remove_TMP_folder('datasets/bioview_TMP')"
   ]
  },
  {
   "cell_type": "markdown",
   "metadata": {},
   "source": [
    "Ahora que ya todo está estructurado cómo queremos creamos y guardamos el archivo yaml que contendrá las rutas y etiquetas del modelo."
   ]
  },
  {
   "cell_type": "code",
   "execution_count": 9,
   "metadata": {},
   "outputs": [
    {
     "name": "stdout",
     "output_type": "stream",
     "text": [
      "Archivo YAML creado o modificado en '/home/qcienmed/mmr689/yolo-consumptions/datasets/bioview-lizards_TRAIN/config.yaml'.\n"
     ]
    }
   ],
   "source": [
    "train_path = os.path.join(os.getcwd(), 'datasets/bioview-lizards_TRAIN')\n",
    "yaml_name = 'config.yaml'\n",
    "yaml_path = os.path.join(train_path, yaml_name)\n",
    "\n",
    "yaml_content = {\n",
    "    'path': train_path,\n",
    "    'train': \"dataset/train/images\",\n",
    "    'val': \"dataset/validation/images\",\n",
    "    'names': {\n",
    "        0: \"Lizard\"\n",
    "    }\n",
    "}\n",
    "\n",
    "# Crear o modificar el archivo YAML\n",
    "with open(yaml_path, 'w') as yaml_file:\n",
    "    yaml.dump(yaml_content, yaml_file, default_flow_style=False)\n",
    "\n",
    "print(f\"Archivo YAML creado o modificado en '{yaml_path}'.\")"
   ]
  },
  {
   "cell_type": "code",
   "execution_count": 10,
   "metadata": {},
   "outputs": [
    {
     "name": "stdout",
     "output_type": "stream",
     "text": [
      "New https://pypi.org/project/ultralytics/8.2.26 available 😃 Update with 'pip install -U ultralytics'\n",
      "Ultralytics YOLOv8.1.47 🚀 Python-3.8.10 torch-2.3.0+cu121 CUDA:0 (NVIDIA RTX A6000, 48677MiB)\n",
      "\u001b[34m\u001b[1mengine/trainer: \u001b[0mtask=detect, mode=train, model=yolov8n.yaml, data=/home/qcienmed/mmr689/yolo-consumptions/datasets/bioview-lizards_TRAIN/config.yaml, epochs=100, time=None, patience=100, batch=16, imgsz=640, save=True, save_period=-1, cache=False, device=cuda, workers=8, project=/home/qcienmed/mmr689/yolo-consumptions/datasets/bioview-lizards_TRAIN, name=train, exist_ok=False, pretrained=True, optimizer=auto, verbose=False, seed=0, deterministic=True, single_cls=False, rect=False, cos_lr=False, close_mosaic=10, resume=False, amp=True, fraction=1.0, profile=False, freeze=None, multi_scale=False, overlap_mask=True, mask_ratio=4, dropout=0.2, val=False, split=val, save_json=False, save_hybrid=False, conf=None, iou=0.7, max_det=300, half=False, dnn=False, plots=True, source=None, vid_stride=1, stream_buffer=False, visualize=False, augment=False, agnostic_nms=False, classes=None, retina_masks=False, embed=None, show=False, save_frames=False, save_txt=False, save_conf=False, save_crop=False, show_labels=True, show_conf=True, show_boxes=True, line_width=None, format=torchscript, keras=False, optimize=False, int8=False, dynamic=False, simplify=False, opset=None, workspace=4, nms=False, lr0=0.01, lrf=0.01, momentum=0.937, weight_decay=0.0005, warmup_epochs=3.0, warmup_momentum=0.8, warmup_bias_lr=0.1, box=7.5, cls=0.5, dfl=1.5, pose=12.0, kobj=1.0, label_smoothing=0.0, nbs=64, hsv_h=0.015, hsv_s=0.7, hsv_v=0.4, degrees=0.0, translate=0.1, scale=0.5, shear=0.0, perspective=0.0, flipud=0.0, fliplr=0.5, bgr=0.0, mosaic=1.0, mixup=0.0, copy_paste=0.0, auto_augment=randaugment, erasing=0.4, crop_fraction=1.0, cfg=None, tracker=botsort.yaml, save_dir=/home/qcienmed/mmr689/yolo-consumptions/datasets/bioview-lizards_TRAIN/run/train\n",
      "Overriding model.yaml nc=80 with nc=1\n",
      "\n",
      "                   from  n    params  module                                       arguments                     \n",
      "  0                  -1  1       464  ultralytics.nn.modules.conv.Conv             [3, 16, 3, 2]                 \n",
      "  1                  -1  1      4672  ultralytics.nn.modules.conv.Conv             [16, 32, 3, 2]                \n",
      "  2                  -1  1      7360  ultralytics.nn.modules.block.C2f             [32, 32, 1, True]             \n",
      "  3                  -1  1     18560  ultralytics.nn.modules.conv.Conv             [32, 64, 3, 2]                \n",
      "  4                  -1  2     49664  ultralytics.nn.modules.block.C2f             [64, 64, 2, True]             \n",
      "  5                  -1  1     73984  ultralytics.nn.modules.conv.Conv             [64, 128, 3, 2]               \n",
      "  6                  -1  2    197632  ultralytics.nn.modules.block.C2f             [128, 128, 2, True]           \n",
      "  7                  -1  1    295424  ultralytics.nn.modules.conv.Conv             [128, 256, 3, 2]              \n",
      "  8                  -1  1    460288  ultralytics.nn.modules.block.C2f             [256, 256, 1, True]           \n",
      "  9                  -1  1    164608  ultralytics.nn.modules.block.SPPF            [256, 256, 5]                 \n",
      " 10                  -1  1         0  torch.nn.modules.upsampling.Upsample         [None, 2, 'nearest']          \n",
      " 11             [-1, 6]  1         0  ultralytics.nn.modules.conv.Concat           [1]                           \n",
      " 12                  -1  1    148224  ultralytics.nn.modules.block.C2f             [384, 128, 1]                 \n",
      " 13                  -1  1         0  torch.nn.modules.upsampling.Upsample         [None, 2, 'nearest']          \n",
      " 14             [-1, 4]  1         0  ultralytics.nn.modules.conv.Concat           [1]                           \n",
      " 15                  -1  1     37248  ultralytics.nn.modules.block.C2f             [192, 64, 1]                  \n",
      " 16                  -1  1     36992  ultralytics.nn.modules.conv.Conv             [64, 64, 3, 2]                \n",
      " 17            [-1, 12]  1         0  ultralytics.nn.modules.conv.Concat           [1]                           \n",
      " 18                  -1  1    123648  ultralytics.nn.modules.block.C2f             [192, 128, 1]                 \n",
      " 19                  -1  1    147712  ultralytics.nn.modules.conv.Conv             [128, 128, 3, 2]              \n",
      " 20             [-1, 9]  1         0  ultralytics.nn.modules.conv.Concat           [1]                           \n",
      " 21                  -1  1    493056  ultralytics.nn.modules.block.C2f             [384, 256, 1]                 \n",
      " 22        [15, 18, 21]  1    751507  ultralytics.nn.modules.head.Detect           [1, [64, 128, 256]]           \n",
      "YOLOv8n summary: 225 layers, 3011043 parameters, 3011027 gradients, 8.2 GFLOPs\n",
      "\n",
      "\u001b[34m\u001b[1mTensorBoard: \u001b[0mStart with 'tensorboard --logdir /home/qcienmed/mmr689/yolo-consumptions/datasets/bioview-lizards_TRAIN/run/train', view at http://localhost:6006/\n",
      "Freezing layer 'model.22.dfl.conv.weight'\n",
      "\u001b[34m\u001b[1mAMP: \u001b[0mrunning Automatic Mixed Precision (AMP) checks with YOLOv8n...\n"
     ]
    },
    {
     "ename": "",
     "evalue": "",
     "output_type": "error",
     "traceback": [
      "\u001b[1;31mThe Kernel crashed while executing code in the current cell or a previous cell. \n",
      "\u001b[1;31mPlease review the code in the cell(s) to identify a possible cause of the failure. \n",
      "\u001b[1;31mClick <a href='https://aka.ms/vscodeJupyterKernelCrash'>here</a> for more info. \n",
      "\u001b[1;31mView Jupyter <a href='command:jupyter.viewOutput'>log</a> for further details."
     ]
    }
   ],
   "source": [
    "model = YOLO(\"yolov8n.yaml\")\n",
    "results = model.train(data=yaml_path,\n",
    "                      epochs=100,\n",
    "                      patience=100,\n",
    "                      dropout= 0.2,\n",
    "                      single_cls=False,\n",
    "                      val=False,\n",
    "                      device=device,\n",
    "                      verbose=False,\n",
    "                      project=train_path,\n",
    "                      name='run/train'\n",
    "                      )"
   ]
  }
 ],
 "metadata": {
  "kernelspec": {
   "display_name": "yolo_venv",
   "language": "python",
   "name": "python3"
  },
  "language_info": {
   "codemirror_mode": {
    "name": "ipython",
    "version": 3
   },
   "file_extension": ".py",
   "mimetype": "text/x-python",
   "name": "python",
   "nbconvert_exporter": "python",
   "pygments_lexer": "ipython3",
   "version": "3.8.10"
  }
 },
 "nbformat": 4,
 "nbformat_minor": 2
}
