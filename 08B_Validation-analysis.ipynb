{
 "cells": [
  {
   "cell_type": "code",
   "execution_count": 2,
   "metadata": {},
   "outputs": [],
   "source": [
    "import pandas as pd"
   ]
  },
  {
   "cell_type": "code",
   "execution_count": 3,
   "metadata": {},
   "outputs": [
    {
     "name": "stdout",
     "output_type": "stream",
     "text": [
      "Clase 1 - Precisión: 0.91, Recall: 0.95, AP: 0.91\n",
      "Clase 2 - Precisión: 0.82, Recall: 0.90, AP: 0.82\n",
      "Mean Average Precision (mAP) del modelo: 0.86\n"
     ]
    }
   ],
   "source": [
    "import numpy as np\n",
    "\n",
    "class ObjectDetectionMetrics:\n",
    "    def __init__(self):\n",
    "        self.classes_metrics = []\n",
    "\n",
    "    def add_class_metrics(self, true_positive, false_positive, false_negative):\n",
    "        metrics = {\n",
    "            'TP': np.array([true_positive]),\n",
    "            'FP': np.array([false_positive]),\n",
    "            'FN': np.array([false_negative])\n",
    "        }\n",
    "        self.classes_metrics.append(metrics)\n",
    "\n",
    "    def calculate_precision_recall(self, metrics):\n",
    "        TP = metrics['TP']\n",
    "        FP = metrics['FP']\n",
    "        FN = metrics['FN']\n",
    "        precision = TP / (TP + FP)\n",
    "        recall = TP / (TP + FN)\n",
    "        return precision, recall\n",
    "\n",
    "    def average_precision(self, precision, recall):\n",
    "        # En este contexto simplificado, podemos considerar que la precisión y el recall son constantes\n",
    "        return precision[0]  # Devuelve el único valor de precisión\n",
    "\n",
    "    def calculate_mAP(self):\n",
    "        aps = []\n",
    "        for metrics in self.classes_metrics:\n",
    "            precision, recall = self.calculate_precision_recall(metrics)\n",
    "            ap = self.average_precision(precision, recall)\n",
    "            aps.append(ap)\n",
    "        return np.mean(aps)\n",
    "\n",
    "# Ejemplo de uso\n",
    "od_metrics = ObjectDetectionMetrics()\n",
    "od_metrics.add_class_metrics(100, 10, 5) # TP, FP, FN\n",
    "od_metrics.add_class_metrics(90, 20, 10)\n",
    "\n",
    "# Calculando precisión, recall y AP para cada clase\n",
    "for i, metrics in enumerate(od_metrics.classes_metrics):\n",
    "    precision, recall = od_metrics.calculate_precision_recall(metrics)\n",
    "    ap = od_metrics.average_precision(precision, recall)\n",
    "    print(f\"Clase {i+1} - Precisión: {precision[0]:.2f}, Recall: {recall[0]:.2f}, AP: {ap:.2f}\")\n",
    "\n",
    "# Calculando mAP para el modelo\n",
    "mAP = od_metrics.calculate_mAP()\n",
    "print(f\"Mean Average Precision (mAP) del modelo: {mAP:.2f}\")"
   ]
  },
  {
   "cell_type": "markdown",
   "metadata": {},
   "source": [
    "# FP32"
   ]
  },
  {
   "cell_type": "code",
   "execution_count": 4,
   "metadata": {},
   "outputs": [
    {
     "data": {
      "text/html": [
       "<div>\n",
       "<style scoped>\n",
       "    .dataframe tbody tr th:only-of-type {\n",
       "        vertical-align: middle;\n",
       "    }\n",
       "\n",
       "    .dataframe tbody tr th {\n",
       "        vertical-align: top;\n",
       "    }\n",
       "\n",
       "    .dataframe thead th {\n",
       "        text-align: right;\n",
       "    }\n",
       "</style>\n",
       "<table border=\"1\" class=\"dataframe\">\n",
       "  <thead>\n",
       "    <tr style=\"text-align: right;\">\n",
       "      <th></th>\n",
       "      <th>image</th>\n",
       "      <th>gt_x1</th>\n",
       "      <th>gt_y1</th>\n",
       "      <th>gt_x2</th>\n",
       "      <th>gt_y2</th>\n",
       "      <th>pr_x1</th>\n",
       "      <th>pr_y1</th>\n",
       "      <th>pr_x2</th>\n",
       "      <th>pr_y2</th>\n",
       "      <th>pr_score</th>\n",
       "      <th>IoU</th>\n",
       "    </tr>\n",
       "  </thead>\n",
       "  <tbody>\n",
       "    <tr>\n",
       "      <th>0</th>\n",
       "      <td>img_20230322_224503.jpg</td>\n",
       "      <td>3659</td>\n",
       "      <td>2635</td>\n",
       "      <td>3777</td>\n",
       "      <td>2990</td>\n",
       "      <td>3661.0</td>\n",
       "      <td>2638.0</td>\n",
       "      <td>3809.0</td>\n",
       "      <td>2901.0</td>\n",
       "      <td>0.776861</td>\n",
       "      <td>0.606449</td>\n",
       "    </tr>\n",
       "    <tr>\n",
       "      <th>1</th>\n",
       "      <td>img_20230708_223004.jpg</td>\n",
       "      <td>2751</td>\n",
       "      <td>2609</td>\n",
       "      <td>3111</td>\n",
       "      <td>2808</td>\n",
       "      <td>2746.0</td>\n",
       "      <td>2611.0</td>\n",
       "      <td>3036.0</td>\n",
       "      <td>2806.0</td>\n",
       "      <td>0.876259</td>\n",
       "      <td>0.765338</td>\n",
       "    </tr>\n",
       "    <tr>\n",
       "      <th>2</th>\n",
       "      <td>img_20230624_014503.jpg</td>\n",
       "      <td>3121</td>\n",
       "      <td>731</td>\n",
       "      <td>3299</td>\n",
       "      <td>1048</td>\n",
       "      <td>3113.0</td>\n",
       "      <td>730.0</td>\n",
       "      <td>3307.0</td>\n",
       "      <td>1059.0</td>\n",
       "      <td>0.902837</td>\n",
       "      <td>0.884060</td>\n",
       "    </tr>\n",
       "    <tr>\n",
       "      <th>3</th>\n",
       "      <td>img_20230718_001503.jpg</td>\n",
       "      <td>3366</td>\n",
       "      <td>2088</td>\n",
       "      <td>3643</td>\n",
       "      <td>2354</td>\n",
       "      <td>3370.0</td>\n",
       "      <td>2097.0</td>\n",
       "      <td>3622.0</td>\n",
       "      <td>2356.0</td>\n",
       "      <td>0.862179</td>\n",
       "      <td>0.872995</td>\n",
       "    </tr>\n",
       "    <tr>\n",
       "      <th>4</th>\n",
       "      <td>img_20230616_224503.jpg</td>\n",
       "      <td>1288</td>\n",
       "      <td>2412</td>\n",
       "      <td>1539</td>\n",
       "      <td>2606</td>\n",
       "      <td>1287.0</td>\n",
       "      <td>2418.0</td>\n",
       "      <td>1540.0</td>\n",
       "      <td>2613.0</td>\n",
       "      <td>0.893374</td>\n",
       "      <td>0.928149</td>\n",
       "    </tr>\n",
       "  </tbody>\n",
       "</table>\n",
       "</div>"
      ],
      "text/plain": [
       "                     image  gt_x1  gt_y1  gt_x2  gt_y2   pr_x1   pr_y1  \\\n",
       "0  img_20230322_224503.jpg   3659   2635   3777   2990  3661.0  2638.0   \n",
       "1  img_20230708_223004.jpg   2751   2609   3111   2808  2746.0  2611.0   \n",
       "2  img_20230624_014503.jpg   3121    731   3299   1048  3113.0   730.0   \n",
       "3  img_20230718_001503.jpg   3366   2088   3643   2354  3370.0  2097.0   \n",
       "4  img_20230616_224503.jpg   1288   2412   1539   2606  1287.0  2418.0   \n",
       "\n",
       "    pr_x2   pr_y2  pr_score       IoU  \n",
       "0  3809.0  2901.0  0.776861  0.606449  \n",
       "1  3036.0  2806.0  0.876259  0.765338  \n",
       "2  3307.0  1059.0  0.902837  0.884060  \n",
       "3  3622.0  2356.0  0.862179  0.872995  \n",
       "4  1540.0  2613.0  0.893374  0.928149  "
      ]
     },
     "execution_count": 4,
     "metadata": {},
     "output_type": "execute_result"
    }
   ],
   "source": [
    "file_path = \"results/model-validation/FP32.csv\"\n",
    "df32 = pd.read_csv(file_path)\n",
    "df32.head()"
   ]
  },
  {
   "cell_type": "code",
   "execution_count": 5,
   "metadata": {},
   "outputs": [
    {
     "name": "stdout",
     "output_type": "stream",
     "text": [
      "Número de filas con al menos un valor NaN: 2 de 147\n",
      "Porcentaje de filas con al menos un valor NaN: 1.36%\n"
     ]
    }
   ],
   "source": [
    "# Contar las filas que contienen al menos un NaN\n",
    "num_rows_with_nan = df32.isna().any(axis=1).sum()\n",
    "print(f\"Número de filas con al menos un valor NaN: {num_rows_with_nan} de {df32.shape[0]}\")\n",
    "# Calcular el porcentaje de filas donde hay NaN\n",
    "percentage = (num_rows_with_nan / df32.shape[0]) * 100\n",
    "print(f\"Porcentaje de filas con al menos un valor NaN: {percentage:.2f}%\")"
   ]
  },
  {
   "cell_type": "code",
   "execution_count": 6,
   "metadata": {},
   "outputs": [
    {
     "name": "stdout",
     "output_type": "stream",
     "text": [
      "Número de filas donde 'IoU' es mayor o igual a 0.5: 141 de 147\n",
      "Porcentaje de filas donde 'IoU' es mayor o igual a 0.5: 95.92%\n",
      "El valor promedio de IoU es: 0.83\n",
      "La desviación estándar de IoU es: 0.15\n"
     ]
    }
   ],
   "source": [
    "# Contar las filas donde la columna 'IoU' es mayor o igual a 0.5\n",
    "num_rows_iou_ge_0_5 = (df32['IoU'] >= 0.5).sum()\n",
    "print(f\"Número de filas donde 'IoU' es mayor o igual a 0.5: {num_rows_iou_ge_0_5} de {df32.shape[0]}\")\n",
    "\n",
    "\n",
    "# Calcular el porcentaje de filas donde 'IoU' es mayor o igual a 0.5\n",
    "percentage = (num_rows_iou_ge_0_5 / df32.shape[0]) * 100\n",
    "print(f\"Porcentaje de filas donde 'IoU' es mayor o igual a 0.5: {percentage:.2f}%\")\n",
    "\n",
    "# Calcular el valor promedio de la columna 'IoU'\n",
    "mean_iou = df32['IoU'].mean()\n",
    "print(f\"El valor promedio de IoU es: {mean_iou:.2f}\")\n",
    "\n",
    "# Calcular la desviación estándar de la columna 'IoU'\n",
    "std_iou = df32['IoU'].std()\n",
    "print(f\"La desviación estándar de IoU es: {std_iou:.2f}\")"
   ]
  },
  {
   "cell_type": "code",
   "execution_count": 7,
   "metadata": {},
   "outputs": [
    {
     "name": "stdout",
     "output_type": "stream",
     "text": [
      "Clase 1 - Precisión: 1.00, Recall: 0.99, AP: 1.00\n",
      "Mean Average Precision (mAP) del modelo: 1.00\n"
     ]
    }
   ],
   "source": [
    "TP = num_rows_iou_ge_0_5\n",
    "FP = 0 # Porqué todos son superiores a 0.5\n",
    "FN = num_rows_with_nan\n",
    "\n",
    "od_metrics = ObjectDetectionMetrics()\n",
    "od_metrics.add_class_metrics(TP, FP, FN)\n",
    "\n",
    "# Calculando precisión, recall y AP para cada clase\n",
    "for i, metrics in enumerate(od_metrics.classes_metrics):\n",
    "    precision, recall = od_metrics.calculate_precision_recall(metrics)\n",
    "    ap = od_metrics.average_precision(precision, recall)\n",
    "    print(f\"Clase {i+1} - Precisión: {precision[0]:.2f}, Recall: {recall[0]:.2f}, AP: {ap:.2f}\")\n",
    "\n",
    "# Calculando mAP para el modelo\n",
    "mAP = od_metrics.calculate_mAP()\n",
    "print(f\"Mean Average Precision (mAP) del modelo: {mAP:.2f}\")"
   ]
  },
  {
   "cell_type": "markdown",
   "metadata": {},
   "source": [
    "Hasta ahora es el paso a paso y tendriamos el mAP50. Hagamos el bucle para obtener el map50-95."
   ]
  },
  {
   "cell_type": "code",
   "execution_count": 8,
   "metadata": {},
   "outputs": [
    {
     "name": "stdout",
     "output_type": "stream",
     "text": [
      "  ·IoU 0.5 -  Mean Average Precision (mAP) del modelo: 97.24\n",
      "  ·IoU 0.55 -  Mean Average Precision (mAP) del modelo: 97.24\n",
      "  ·IoU 0.6 -  Mean Average Precision (mAP) del modelo: 96.55\n",
      "  ·IoU 0.65 -  Mean Average Precision (mAP) del modelo: 94.48\n",
      "  ·IoU 0.7 -  Mean Average Precision (mAP) del modelo: 89.66\n",
      "  ·IoU 0.75 -  Mean Average Precision (mAP) del modelo: 86.90\n",
      "  ·IoU 0.8 -  Mean Average Precision (mAP) del modelo: 77.24\n",
      "  ·IoU 0.85 -  Mean Average Precision (mAP) del modelo: 59.31\n",
      "  ·IoU 0.9 -  Mean Average Precision (mAP) del modelo: 25.52\n",
      "  ·IoU 0.95 -  Mean Average Precision (mAP) del modelo: 2.07\n",
      "\n",
      "FINAL mAP50-95: 72.62\n"
     ]
    }
   ],
   "source": [
    "mAPs = []\n",
    "for iou in range(50, 100, 5):\n",
    "    TP = (df32['IoU'] >= iou/100).sum()\n",
    "    FP = (df32['IoU'] < iou/100).sum()\n",
    "    FN = df32.isna().any(axis=1).sum()\n",
    "\n",
    "    od_metrics = ObjectDetectionMetrics()\n",
    "    od_metrics.add_class_metrics(TP, FP, FN)\n",
    "\n",
    "    # Calculando precisión, recall y AP para cada clase\n",
    "    for i, metrics in enumerate(od_metrics.classes_metrics):\n",
    "        precision, recall = od_metrics.calculate_precision_recall(metrics)\n",
    "        ap = od_metrics.average_precision(precision, recall)\n",
    "        # print(f\"IoU {iou/100} - Precisión: {precision[0]:.2f}, Recall: {recall[0]:.2f}, AP: {ap:.2f}\")\n",
    "\n",
    "    # Calculando mAP para el modelo\n",
    "    mAP = od_metrics.calculate_mAP()\n",
    "    print(f\"  ·IoU {iou/100} -  Mean Average Precision (mAP) del modelo: {mAP*100:.2f}\")\n",
    "\n",
    "    mAPs.append(mAP)\n",
    "\n",
    "print(f'\\nFINAL mAP50-95: {np.mean(mAPs)*100:.2f}')"
   ]
  },
  {
   "cell_type": "markdown",
   "metadata": {},
   "source": [
    "# FP16"
   ]
  },
  {
   "cell_type": "code",
   "execution_count": 9,
   "metadata": {},
   "outputs": [
    {
     "data": {
      "text/html": [
       "<div>\n",
       "<style scoped>\n",
       "    .dataframe tbody tr th:only-of-type {\n",
       "        vertical-align: middle;\n",
       "    }\n",
       "\n",
       "    .dataframe tbody tr th {\n",
       "        vertical-align: top;\n",
       "    }\n",
       "\n",
       "    .dataframe thead th {\n",
       "        text-align: right;\n",
       "    }\n",
       "</style>\n",
       "<table border=\"1\" class=\"dataframe\">\n",
       "  <thead>\n",
       "    <tr style=\"text-align: right;\">\n",
       "      <th></th>\n",
       "      <th>image</th>\n",
       "      <th>gt_x1</th>\n",
       "      <th>gt_y1</th>\n",
       "      <th>gt_x2</th>\n",
       "      <th>gt_y2</th>\n",
       "      <th>pr_x1</th>\n",
       "      <th>pr_y1</th>\n",
       "      <th>pr_x2</th>\n",
       "      <th>pr_y2</th>\n",
       "      <th>pr_score</th>\n",
       "      <th>IoU</th>\n",
       "    </tr>\n",
       "  </thead>\n",
       "  <tbody>\n",
       "    <tr>\n",
       "      <th>0</th>\n",
       "      <td>img_20230322_224503.jpg</td>\n",
       "      <td>3659</td>\n",
       "      <td>2635</td>\n",
       "      <td>3777</td>\n",
       "      <td>2990</td>\n",
       "      <td>3662.0</td>\n",
       "      <td>2639.0</td>\n",
       "      <td>3810.0</td>\n",
       "      <td>2902.0</td>\n",
       "      <td>0.776977</td>\n",
       "      <td>0.598094</td>\n",
       "    </tr>\n",
       "    <tr>\n",
       "      <th>1</th>\n",
       "      <td>img_20230708_223004.jpg</td>\n",
       "      <td>2751</td>\n",
       "      <td>2609</td>\n",
       "      <td>3111</td>\n",
       "      <td>2808</td>\n",
       "      <td>2747.0</td>\n",
       "      <td>2612.0</td>\n",
       "      <td>3037.0</td>\n",
       "      <td>2807.0</td>\n",
       "      <td>0.876298</td>\n",
       "      <td>0.770091</td>\n",
       "    </tr>\n",
       "    <tr>\n",
       "      <th>2</th>\n",
       "      <td>img_20230624_014503.jpg</td>\n",
       "      <td>3121</td>\n",
       "      <td>731</td>\n",
       "      <td>3299</td>\n",
       "      <td>1048</td>\n",
       "      <td>3114.0</td>\n",
       "      <td>731.0</td>\n",
       "      <td>3308.0</td>\n",
       "      <td>1060.0</td>\n",
       "      <td>0.902805</td>\n",
       "      <td>0.884060</td>\n",
       "    </tr>\n",
       "    <tr>\n",
       "      <th>3</th>\n",
       "      <td>img_20230718_001503.jpg</td>\n",
       "      <td>3366</td>\n",
       "      <td>2088</td>\n",
       "      <td>3643</td>\n",
       "      <td>2354</td>\n",
       "      <td>3371.0</td>\n",
       "      <td>2097.0</td>\n",
       "      <td>3623.0</td>\n",
       "      <td>2356.0</td>\n",
       "      <td>0.862200</td>\n",
       "      <td>0.872995</td>\n",
       "    </tr>\n",
       "    <tr>\n",
       "      <th>4</th>\n",
       "      <td>img_20230616_224503.jpg</td>\n",
       "      <td>1288</td>\n",
       "      <td>2412</td>\n",
       "      <td>1539</td>\n",
       "      <td>2606</td>\n",
       "      <td>1287.0</td>\n",
       "      <td>2418.0</td>\n",
       "      <td>1539.0</td>\n",
       "      <td>2613.0</td>\n",
       "      <td>0.893417</td>\n",
       "      <td>0.931722</td>\n",
       "    </tr>\n",
       "  </tbody>\n",
       "</table>\n",
       "</div>"
      ],
      "text/plain": [
       "                     image  gt_x1  gt_y1  gt_x2  gt_y2   pr_x1   pr_y1  \\\n",
       "0  img_20230322_224503.jpg   3659   2635   3777   2990  3662.0  2639.0   \n",
       "1  img_20230708_223004.jpg   2751   2609   3111   2808  2747.0  2612.0   \n",
       "2  img_20230624_014503.jpg   3121    731   3299   1048  3114.0   731.0   \n",
       "3  img_20230718_001503.jpg   3366   2088   3643   2354  3371.0  2097.0   \n",
       "4  img_20230616_224503.jpg   1288   2412   1539   2606  1287.0  2418.0   \n",
       "\n",
       "    pr_x2   pr_y2  pr_score       IoU  \n",
       "0  3810.0  2902.0  0.776977  0.598094  \n",
       "1  3037.0  2807.0  0.876298  0.770091  \n",
       "2  3308.0  1060.0  0.902805  0.884060  \n",
       "3  3623.0  2356.0  0.862200  0.872995  \n",
       "4  1539.0  2613.0  0.893417  0.931722  "
      ]
     },
     "execution_count": 9,
     "metadata": {},
     "output_type": "execute_result"
    }
   ],
   "source": [
    "file_path = \"results/model-validation/FP16.csv\"\n",
    "df16 = pd.read_csv(file_path)\n",
    "df16.head()"
   ]
  },
  {
   "cell_type": "code",
   "execution_count": 10,
   "metadata": {},
   "outputs": [
    {
     "name": "stdout",
     "output_type": "stream",
     "text": [
      "Número de filas con al menos un valor NaN: 2 de 147\n",
      "Porcentaje de filas con al menos un valor NaN: 1.36%\n"
     ]
    }
   ],
   "source": [
    "# Contar las filas que contienen al menos un NaN\n",
    "num_rows_with_nan = df16.isna().any(axis=1).sum()\n",
    "print(f\"Número de filas con al menos un valor NaN: {num_rows_with_nan} de {df16.shape[0]}\")\n",
    "# Calcular el porcentaje de filas donde hay NaN\n",
    "percentage = (num_rows_with_nan / df16.shape[0]) * 100\n",
    "print(f\"Porcentaje de filas con al menos un valor NaN: {percentage:.2f}%\")"
   ]
  },
  {
   "cell_type": "code",
   "execution_count": 11,
   "metadata": {},
   "outputs": [
    {
     "name": "stdout",
     "output_type": "stream",
     "text": [
      "Número de filas donde 'IoU' es mayor o igual a 0.5: 141 de 147\n",
      "Porcentaje de filas donde 'IoU' es mayor o igual a 0.5: 95.92%\n",
      "El valor promedio de IoU es: 0.83\n",
      "La desviación estándar de IoU es: 0.15\n"
     ]
    }
   ],
   "source": [
    "# Contar las filas donde la columna 'IoU' es mayor o igual a 0.5\n",
    "num_rows_iou_ge_0_5 = (df16['IoU'] >= 0.5).sum()\n",
    "print(f\"Número de filas donde 'IoU' es mayor o igual a 0.5: {num_rows_iou_ge_0_5} de {df16.shape[0]}\")\n",
    "\n",
    "\n",
    "# Calcular el porcentaje de filas donde 'IoU' es mayor o igual a 0.5\n",
    "percentage = (num_rows_iou_ge_0_5 / df16.shape[0]) * 100\n",
    "print(f\"Porcentaje de filas donde 'IoU' es mayor o igual a 0.5: {percentage:.2f}%\")\n",
    "\n",
    "# Calcular el valor promedio de la columna 'IoU'\n",
    "mean_iou = df16['IoU'].mean()\n",
    "print(f\"El valor promedio de IoU es: {mean_iou:.2f}\")\n",
    "\n",
    "# Calcular la desviación estándar de la columna 'IoU'\n",
    "std_iou = df16['IoU'].std()\n",
    "print(f\"La desviación estándar de IoU es: {std_iou:.2f}\")"
   ]
  },
  {
   "cell_type": "code",
   "execution_count": 12,
   "metadata": {},
   "outputs": [
    {
     "name": "stdout",
     "output_type": "stream",
     "text": [
      "  · IoU 0.5 - Mean Average Precision (mAP) del modelo: 97.24\n",
      "  · IoU 0.55 - Mean Average Precision (mAP) del modelo: 96.55\n",
      "  · IoU 0.6 - Mean Average Precision (mAP) del modelo: 95.86\n",
      "  · IoU 0.65 - Mean Average Precision (mAP) del modelo: 93.79\n",
      "  · IoU 0.7 - Mean Average Precision (mAP) del modelo: 89.66\n",
      "  · IoU 0.75 - Mean Average Precision (mAP) del modelo: 86.21\n",
      "  · IoU 0.8 - Mean Average Precision (mAP) del modelo: 78.62\n",
      "  · IoU 0.85 - Mean Average Precision (mAP) del modelo: 60.00\n",
      "  · IoU 0.9 - Mean Average Precision (mAP) del modelo: 27.59\n",
      "  · IoU 0.95 - Mean Average Precision (mAP) del modelo: 2.07\n",
      "\n",
      "FINAL mAP50-95: 72.76\n"
     ]
    }
   ],
   "source": [
    "mAPs = []\n",
    "for iou in range(50, 100, 5):\n",
    "    TP = (df16['IoU'] >= iou/100).sum()\n",
    "    FP = (df16['IoU'] < iou/100).sum()\n",
    "    FN = df16.isna().any(axis=1).sum()\n",
    "\n",
    "    od_metrics = ObjectDetectionMetrics()\n",
    "    od_metrics.add_class_metrics(TP, FP, FN)\n",
    "\n",
    "    # Calculando precisión, recall y AP para cada clase\n",
    "    for i, metrics in enumerate(od_metrics.classes_metrics):\n",
    "        precision, recall = od_metrics.calculate_precision_recall(metrics)\n",
    "        ap = od_metrics.average_precision(precision, recall)\n",
    "        # print(f\"IoU {iou/100} - Precisión: {precision[0]:.2f}, Recall: {recall[0]:.2f}, AP: {ap:.2f}\")\n",
    "\n",
    "    # Calculando mAP para el modelo\n",
    "    mAP = od_metrics.calculate_mAP()\n",
    "    print(f\"  · IoU {iou/100} - Mean Average Precision (mAP) del modelo: {mAP*100:.2f}\")\n",
    "\n",
    "    mAPs.append(mAP)\n",
    "\n",
    "print(f'\\nFINAL mAP50-95: {np.mean(mAPs)*100:.2f}')"
   ]
  },
  {
   "cell_type": "markdown",
   "metadata": {},
   "source": [
    "# INT8"
   ]
  },
  {
   "cell_type": "code",
   "execution_count": 18,
   "metadata": {},
   "outputs": [
    {
     "data": {
      "text/html": [
       "<div>\n",
       "<style scoped>\n",
       "    .dataframe tbody tr th:only-of-type {\n",
       "        vertical-align: middle;\n",
       "    }\n",
       "\n",
       "    .dataframe tbody tr th {\n",
       "        vertical-align: top;\n",
       "    }\n",
       "\n",
       "    .dataframe thead th {\n",
       "        text-align: right;\n",
       "    }\n",
       "</style>\n",
       "<table border=\"1\" class=\"dataframe\">\n",
       "  <thead>\n",
       "    <tr style=\"text-align: right;\">\n",
       "      <th></th>\n",
       "      <th>image</th>\n",
       "      <th>gt_x1</th>\n",
       "      <th>gt_y1</th>\n",
       "      <th>gt_x2</th>\n",
       "      <th>gt_y2</th>\n",
       "      <th>pr_x1</th>\n",
       "      <th>pr_y1</th>\n",
       "      <th>pr_x2</th>\n",
       "      <th>pr_y2</th>\n",
       "      <th>pr_score</th>\n",
       "      <th>IoU</th>\n",
       "    </tr>\n",
       "  </thead>\n",
       "  <tbody>\n",
       "    <tr>\n",
       "      <th>0</th>\n",
       "      <td>img_20230322_224503.jpg</td>\n",
       "      <td>3659</td>\n",
       "      <td>2635</td>\n",
       "      <td>3777</td>\n",
       "      <td>2990</td>\n",
       "      <td>1415</td>\n",
       "      <td>3256</td>\n",
       "      <td>1761</td>\n",
       "      <td>3461</td>\n",
       "      <td>0.988235</td>\n",
       "      <td>0.0</td>\n",
       "    </tr>\n",
       "    <tr>\n",
       "      <th>1</th>\n",
       "      <td>img_20230322_224503.jpg</td>\n",
       "      <td>3659</td>\n",
       "      <td>2635</td>\n",
       "      <td>3777</td>\n",
       "      <td>2990</td>\n",
       "      <td>1671</td>\n",
       "      <td>3256</td>\n",
       "      <td>2090</td>\n",
       "      <td>3461</td>\n",
       "      <td>0.988235</td>\n",
       "      <td>0.0</td>\n",
       "    </tr>\n",
       "    <tr>\n",
       "      <th>2</th>\n",
       "      <td>img_20230322_224503.jpg</td>\n",
       "      <td>3659</td>\n",
       "      <td>2635</td>\n",
       "      <td>3777</td>\n",
       "      <td>2990</td>\n",
       "      <td>667</td>\n",
       "      <td>645</td>\n",
       "      <td>904</td>\n",
       "      <td>1056</td>\n",
       "      <td>0.980392</td>\n",
       "      <td>0.0</td>\n",
       "    </tr>\n",
       "    <tr>\n",
       "      <th>3</th>\n",
       "      <td>img_20230322_224503.jpg</td>\n",
       "      <td>3659</td>\n",
       "      <td>2635</td>\n",
       "      <td>3777</td>\n",
       "      <td>2990</td>\n",
       "      <td>1223</td>\n",
       "      <td>3276</td>\n",
       "      <td>1442</td>\n",
       "      <td>3440</td>\n",
       "      <td>0.972549</td>\n",
       "      <td>0.0</td>\n",
       "    </tr>\n",
       "    <tr>\n",
       "      <th>4</th>\n",
       "      <td>img_20230322_224503.jpg</td>\n",
       "      <td>3659</td>\n",
       "      <td>2635</td>\n",
       "      <td>3777</td>\n",
       "      <td>2990</td>\n",
       "      <td>3633</td>\n",
       "      <td>754</td>\n",
       "      <td>3925</td>\n",
       "      <td>1055</td>\n",
       "      <td>0.945098</td>\n",
       "      <td>0.0</td>\n",
       "    </tr>\n",
       "  </tbody>\n",
       "</table>\n",
       "</div>"
      ],
      "text/plain": [
       "                     image  gt_x1  gt_y1  gt_x2  gt_y2  pr_x1  pr_y1  pr_x2  \\\n",
       "0  img_20230322_224503.jpg   3659   2635   3777   2990   1415   3256   1761   \n",
       "1  img_20230322_224503.jpg   3659   2635   3777   2990   1671   3256   2090   \n",
       "2  img_20230322_224503.jpg   3659   2635   3777   2990    667    645    904   \n",
       "3  img_20230322_224503.jpg   3659   2635   3777   2990   1223   3276   1442   \n",
       "4  img_20230322_224503.jpg   3659   2635   3777   2990   3633    754   3925   \n",
       "\n",
       "   pr_y2  pr_score  IoU  \n",
       "0   3461  0.988235  0.0  \n",
       "1   3461  0.988235  0.0  \n",
       "2   1056  0.980392  0.0  \n",
       "3   3440  0.972549  0.0  \n",
       "4   1055  0.945098  0.0  "
      ]
     },
     "execution_count": 18,
     "metadata": {},
     "output_type": "execute_result"
    }
   ],
   "source": [
    "file_path = \"results/model-validation/INT8.csv\"\n",
    "df8 = pd.read_csv(file_path)\n",
    "df8.head()"
   ]
  },
  {
   "cell_type": "code",
   "execution_count": 19,
   "metadata": {},
   "outputs": [
    {
     "name": "stdout",
     "output_type": "stream",
     "text": [
      "Número de filas con al menos un valor NaN: 0 de 3846\n",
      "Porcentaje de filas con al menos un valor NaN: 0.00%\n"
     ]
    }
   ],
   "source": [
    "# Contar las filas que contienen al menos un NaN\n",
    "num_rows_with_nan = df8.isna().any(axis=1).sum()\n",
    "print(f\"Número de filas con al menos un valor NaN: {num_rows_with_nan} de {df8.shape[0]}\")\n",
    "# Calcular el porcentaje de filas donde hay NaN\n",
    "percentage = (num_rows_with_nan / df8.shape[0]) * 100\n",
    "print(f\"Porcentaje de filas con al menos un valor NaN: {percentage:.2f}%\")"
   ]
  },
  {
   "cell_type": "code",
   "execution_count": 20,
   "metadata": {},
   "outputs": [
    {
     "name": "stdout",
     "output_type": "stream",
     "text": [
      "Número de filas donde 'IoU' es mayor o igual a 0.5: 5 de 147\n",
      "Porcentaje de filas donde 'IoU' es mayor o igual a 0.5: 0.13%\n",
      "El valor promedio de IoU es: 0.00\n",
      "La desviación estándar de IoU es: 0.03\n"
     ]
    }
   ],
   "source": [
    "# Contar las filas donde la columna 'IoU' es mayor o igual a 0.5\n",
    "num_rows_iou_ge_0_5 = (df8['IoU'] >= 0.5).sum()\n",
    "print(f\"Número de filas donde 'IoU' es mayor o igual a 0.5: {num_rows_iou_ge_0_5} de {df16.shape[0]}\")\n",
    "\n",
    "\n",
    "# Calcular el porcentaje de filas donde 'IoU' es mayor o igual a 0.5\n",
    "percentage = (num_rows_iou_ge_0_5 / df8.shape[0]) * 100\n",
    "print(f\"Porcentaje de filas donde 'IoU' es mayor o igual a 0.5: {percentage:.2f}%\")\n",
    "\n",
    "# Calcular el valor promedio de la columna 'IoU'\n",
    "mean_iou = df8['IoU'].mean()\n",
    "print(f\"El valor promedio de IoU es: {mean_iou:.2f}\")\n",
    "\n",
    "# Calcular la desviación estándar de la columna 'IoU'\n",
    "std_iou = df8['IoU'].std()\n",
    "print(f\"La desviación estándar de IoU es: {std_iou:.2f}\")"
   ]
  },
  {
   "cell_type": "code",
   "execution_count": 22,
   "metadata": {},
   "outputs": [
    {
     "name": "stdout",
     "output_type": "stream",
     "text": [
      "  · IoU 0.5 - Mean Average Precision (mAP) del modelo: 0.13\n",
      "  · IoU 0.55 - Mean Average Precision (mAP) del modelo: 0.05\n",
      "  · IoU 0.6 - Mean Average Precision (mAP) del modelo: 0.03\n",
      "  · IoU 0.65 - Mean Average Precision (mAP) del modelo: 0.03\n",
      "  · IoU 0.7 - Mean Average Precision (mAP) del modelo: 0.00\n",
      "  · IoU 0.75 - Mean Average Precision (mAP) del modelo: 0.00\n",
      "  · IoU 0.8 - Mean Average Precision (mAP) del modelo: 0.00\n",
      "  · IoU 0.85 - Mean Average Precision (mAP) del modelo: 0.00\n",
      "  · IoU 0.9 - Mean Average Precision (mAP) del modelo: 0.00\n",
      "  · IoU 0.95 - Mean Average Precision (mAP) del modelo: 0.00\n",
      "\n",
      "FINAL mAP50-95: 0.02\n"
     ]
    },
    {
     "name": "stderr",
     "output_type": "stream",
     "text": [
      "/tmp/ipykernel_1509088/2122964467.py:20: RuntimeWarning: invalid value encountered in divide\n",
      "  recall = TP / (TP + FN)\n"
     ]
    }
   ],
   "source": [
    "mAPs = []\n",
    "for iou in range(50, 100, 5):\n",
    "    TP = (df8['IoU'] >= iou/100).sum()\n",
    "    FP = (df8['IoU'] < iou/100).sum()\n",
    "    FN = df8.isna().any(axis=1).sum()\n",
    "\n",
    "    od_metrics = ObjectDetectionMetrics()\n",
    "    od_metrics.add_class_metrics(TP, FP, FN)\n",
    "\n",
    "    # Calculando precisión, recall y AP para cada clase\n",
    "    for i, metrics in enumerate(od_metrics.classes_metrics):\n",
    "        precision, recall = od_metrics.calculate_precision_recall(metrics)\n",
    "        ap = od_metrics.average_precision(precision, recall)\n",
    "        # print(f\"IoU {iou/100} - Precisión: {precision[0]:.2f}, Recall: {recall[0]:.2f}, AP: {ap:.2f}\")\n",
    "\n",
    "    # Calculando mAP para el modelo\n",
    "    mAP = od_metrics.calculate_mAP()\n",
    "    print(f\"  · IoU {iou/100} - Mean Average Precision (mAP) del modelo: {mAP*100:.2f}\")\n",
    "\n",
    "    mAPs.append(mAP)\n",
    "\n",
    "print(f'\\nFINAL mAP50-95: {np.mean(mAPs)*100:.2f}')"
   ]
  }
 ],
 "metadata": {
  "kernelspec": {
   "display_name": ".venv",
   "language": "python",
   "name": "python3"
  },
  "language_info": {
   "codemirror_mode": {
    "name": "ipython",
    "version": 3
   },
   "file_extension": ".py",
   "mimetype": "text/x-python",
   "name": "python",
   "nbconvert_exporter": "python",
   "pygments_lexer": "ipython3",
   "version": "3.8.10"
  }
 },
 "nbformat": 4,
 "nbformat_minor": 2
}
